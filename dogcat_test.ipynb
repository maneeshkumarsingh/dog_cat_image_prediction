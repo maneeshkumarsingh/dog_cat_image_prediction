{
 "cells": [
  {
   "cell_type": "code",
   "execution_count": 1,
   "metadata": {},
   "outputs": [
    {
     "name": "stderr",
     "output_type": "stream",
     "text": [
      "Using TensorFlow backend.\n",
      "C:\\Users\\Lenovo\\miniconda3\\envs\\dogcat_test\\lib\\site-packages\\tensorflow\\python\\framework\\dtypes.py:516: FutureWarning: Passing (type, 1) or '1type' as a synonym of type is deprecated; in a future version of numpy, it will be understood as (type, (1,)) / '(1,)type'.\n",
      "  _np_qint8 = np.dtype([(\"qint8\", np.int8, 1)])\n",
      "C:\\Users\\Lenovo\\miniconda3\\envs\\dogcat_test\\lib\\site-packages\\tensorflow\\python\\framework\\dtypes.py:517: FutureWarning: Passing (type, 1) or '1type' as a synonym of type is deprecated; in a future version of numpy, it will be understood as (type, (1,)) / '(1,)type'.\n",
      "  _np_quint8 = np.dtype([(\"quint8\", np.uint8, 1)])\n",
      "C:\\Users\\Lenovo\\miniconda3\\envs\\dogcat_test\\lib\\site-packages\\tensorflow\\python\\framework\\dtypes.py:518: FutureWarning: Passing (type, 1) or '1type' as a synonym of type is deprecated; in a future version of numpy, it will be understood as (type, (1,)) / '(1,)type'.\n",
      "  _np_qint16 = np.dtype([(\"qint16\", np.int16, 1)])\n",
      "C:\\Users\\Lenovo\\miniconda3\\envs\\dogcat_test\\lib\\site-packages\\tensorflow\\python\\framework\\dtypes.py:519: FutureWarning: Passing (type, 1) or '1type' as a synonym of type is deprecated; in a future version of numpy, it will be understood as (type, (1,)) / '(1,)type'.\n",
      "  _np_quint16 = np.dtype([(\"quint16\", np.uint16, 1)])\n",
      "C:\\Users\\Lenovo\\miniconda3\\envs\\dogcat_test\\lib\\site-packages\\tensorflow\\python\\framework\\dtypes.py:520: FutureWarning: Passing (type, 1) or '1type' as a synonym of type is deprecated; in a future version of numpy, it will be understood as (type, (1,)) / '(1,)type'.\n",
      "  _np_qint32 = np.dtype([(\"qint32\", np.int32, 1)])\n",
      "C:\\Users\\Lenovo\\miniconda3\\envs\\dogcat_test\\lib\\site-packages\\tensorflow\\python\\framework\\dtypes.py:525: FutureWarning: Passing (type, 1) or '1type' as a synonym of type is deprecated; in a future version of numpy, it will be understood as (type, (1,)) / '(1,)type'.\n",
      "  np_resource = np.dtype([(\"resource\", np.ubyte, 1)])\n",
      "C:\\Users\\Lenovo\\miniconda3\\envs\\dogcat_test\\lib\\site-packages\\tensorboard\\compat\\tensorflow_stub\\dtypes.py:541: FutureWarning: Passing (type, 1) or '1type' as a synonym of type is deprecated; in a future version of numpy, it will be understood as (type, (1,)) / '(1,)type'.\n",
      "  _np_qint8 = np.dtype([(\"qint8\", np.int8, 1)])\n",
      "C:\\Users\\Lenovo\\miniconda3\\envs\\dogcat_test\\lib\\site-packages\\tensorboard\\compat\\tensorflow_stub\\dtypes.py:542: FutureWarning: Passing (type, 1) or '1type' as a synonym of type is deprecated; in a future version of numpy, it will be understood as (type, (1,)) / '(1,)type'.\n",
      "  _np_quint8 = np.dtype([(\"quint8\", np.uint8, 1)])\n",
      "C:\\Users\\Lenovo\\miniconda3\\envs\\dogcat_test\\lib\\site-packages\\tensorboard\\compat\\tensorflow_stub\\dtypes.py:543: FutureWarning: Passing (type, 1) or '1type' as a synonym of type is deprecated; in a future version of numpy, it will be understood as (type, (1,)) / '(1,)type'.\n",
      "  _np_qint16 = np.dtype([(\"qint16\", np.int16, 1)])\n",
      "C:\\Users\\Lenovo\\miniconda3\\envs\\dogcat_test\\lib\\site-packages\\tensorboard\\compat\\tensorflow_stub\\dtypes.py:544: FutureWarning: Passing (type, 1) or '1type' as a synonym of type is deprecated; in a future version of numpy, it will be understood as (type, (1,)) / '(1,)type'.\n",
      "  _np_quint16 = np.dtype([(\"quint16\", np.uint16, 1)])\n",
      "C:\\Users\\Lenovo\\miniconda3\\envs\\dogcat_test\\lib\\site-packages\\tensorboard\\compat\\tensorflow_stub\\dtypes.py:545: FutureWarning: Passing (type, 1) or '1type' as a synonym of type is deprecated; in a future version of numpy, it will be understood as (type, (1,)) / '(1,)type'.\n",
      "  _np_qint32 = np.dtype([(\"qint32\", np.int32, 1)])\n",
      "C:\\Users\\Lenovo\\miniconda3\\envs\\dogcat_test\\lib\\site-packages\\tensorboard\\compat\\tensorflow_stub\\dtypes.py:550: FutureWarning: Passing (type, 1) or '1type' as a synonym of type is deprecated; in a future version of numpy, it will be understood as (type, (1,)) / '(1,)type'.\n",
      "  np_resource = np.dtype([(\"resource\", np.ubyte, 1)])\n"
     ]
    }
   ],
   "source": [
    "from keras.models import Sequential\n",
    "from keras.layers import Conv2D\n",
    "from keras.layers import MaxPooling2D\n",
    "from keras.layers import Flatten\n",
    "from keras.layers import Dense"
   ]
  },
  {
   "cell_type": "code",
   "execution_count": 2,
   "metadata": {},
   "outputs": [],
   "source": [
    "# Initialising the CNN\n",
    "classifier = Sequential()"
   ]
  },
  {
   "cell_type": "code",
   "execution_count": 3,
   "metadata": {},
   "outputs": [],
   "source": [
    "# Step 1 - Convolution\n",
    "classifier.add(Conv2D(32, (3, 3), input_shape = (64, 64, 3), activation = 'relu'))\n"
   ]
  },
  {
   "cell_type": "code",
   "execution_count": 4,
   "metadata": {},
   "outputs": [
    {
     "name": "stdout",
     "output_type": "stream",
     "text": [
      "WARNING:tensorflow:From C:\\Users\\Lenovo\\miniconda3\\envs\\dogcat_test\\lib\\site-packages\\keras\\backend\\tensorflow_backend.py:4070: The name tf.nn.max_pool is deprecated. Please use tf.nn.max_pool2d instead.\n",
      "\n"
     ]
    }
   ],
   "source": [
    "# Step 2 - Pooling\n",
    "classifier.add(MaxPooling2D(pool_size = (2, 2)))\n"
   ]
  },
  {
   "cell_type": "code",
   "execution_count": 5,
   "metadata": {},
   "outputs": [
    {
     "name": "stdout",
     "output_type": "stream",
     "text": [
      "WARNING:tensorflow:From C:\\Users\\Lenovo\\miniconda3\\envs\\dogcat_test\\lib\\site-packages\\tensorflow\\python\\ops\\nn_impl.py:180: add_dispatch_support.<locals>.wrapper (from tensorflow.python.ops.array_ops) is deprecated and will be removed in a future version.\n",
      "Instructions for updating:\n",
      "Use tf.where in 2.0, which has the same broadcast rule as np.where\n"
     ]
    }
   ],
   "source": [
    "# Adding a second convolutional layer\n",
    "# Step 3 - Flattening\n",
    "classifier.add(Flatten())\n",
    "\n",
    "# Step 4 - Full connection\n",
    "classifier.add(Dense(units = 128, activation = 'relu'))\n",
    "\n",
    "classifier.add(Dense(units = 1, activation = 'sigmoid'))\n",
    "\n",
    "# Compiling the CNN\n",
    "classifier.compile(optimizer = 'adam', loss = 'binary_crossentropy', metrics = ['accuracy'])\n",
    "\n",
    "# Part 2 - Fitting the CNN to the images\n",
    "\n",
    "from keras.preprocessing.image import ImageDataGenerator\n",
    "\n",
    "train_datagen = ImageDataGenerator(rescale = 1./255,\n",
    "                                   shear_range = 0.2,\n",
    "                                   zoom_range = 0.2,\n",
    "                                   horizontal_flip = True)\n",
    "test_datagen = ImageDataGenerator(rescale = 1./255)"
   ]
  },
  {
   "cell_type": "code",
   "execution_count": 6,
   "metadata": {},
   "outputs": [
    {
     "name": "stdout",
     "output_type": "stream",
     "text": [
      "Found 1000 images belonging to 2 classes.\n"
     ]
    }
   ],
   "source": [
    "training_set = train_datagen.flow_from_directory('D:\\Data_House\\dogcat',\n",
    "                                                 target_size = (64, 64),\n",
    "                                                 batch_size = 32,\n",
    "                                                 class_mode = 'binary')\n"
   ]
  },
  {
   "cell_type": "code",
   "execution_count": 7,
   "metadata": {},
   "outputs": [
    {
     "name": "stdout",
     "output_type": "stream",
     "text": [
      "Found 1000 images belonging to 2 classes.\n"
     ]
    }
   ],
   "source": [
    "test_set = test_datagen.flow_from_directory('D:\\Data_House\\dogcat',\n",
    "                                            target_size = (64, 64),\n",
    "                                            batch_size = 32,\n",
    "                                            class_mode = 'binary')"
   ]
  },
  {
   "cell_type": "code",
   "execution_count": 8,
   "metadata": {
    "scrolled": true
   },
   "outputs": [
    {
     "name": "stdout",
     "output_type": "stream",
     "text": [
      "WARNING:tensorflow:From C:\\Users\\Lenovo\\miniconda3\\envs\\dogcat_test\\lib\\site-packages\\keras\\backend\\tensorflow_backend.py:422: The name tf.global_variables is deprecated. Please use tf.compat.v1.global_variables instead.\n",
      "\n",
      "Epoch 1/1\n",
      "8000/8000 [==============================] - 3690s 461ms/step - loss: 0.1660 - accuracy: 0.9283 - val_loss: 0.0018 - val_accuracy: 0.9960\n",
      "Saved model to disk\n"
     ]
    }
   ],
   "source": [
    "model = classifier.fit_generator(training_set,\n",
    "                         steps_per_epoch = 8000,\n",
    "                         epochs = 1,\n",
    "                         validation_data = test_set,    \n",
    "                         validation_steps = 2000)\n",
    "\n",
    "classifier.save(\"model.h5\")\n",
    "print(\"Saved model to disk\")\n"
   ]
  },
  {
   "cell_type": "code",
   "execution_count": 9,
   "metadata": {},
   "outputs": [],
   "source": [
    "from keras.models import load_model\n",
    "from keras.preprocessing import image\n",
    "import numpy as np"
   ]
  },
  {
   "cell_type": "code",
   "execution_count": 10,
   "metadata": {},
   "outputs": [
    {
     "name": "stdout",
     "output_type": "stream",
     "text": [
      "cat\n"
     ]
    }
   ],
   "source": [
    "# Part 3 - Making new predictions\n",
    "from keras.models import load_model\n",
    "import numpy as np\n",
    "from keras.preprocessing import image\n",
    "test_image = image.load_img('D:\\Data_House\\dogcat\\cat\\cat.60.jpg', target_size = (64, 64))\n",
    "test_image = image.img_to_array(test_image)\n",
    "test_image = np.expand_dims(test_image, axis = 0)\n",
    "#result = model.predict(test_image)\n",
    "model = load_model(\"model.h5\")\n",
    "result = model.predict(test_image)\n",
    "training_set.class_indices\n",
    "if result[0][0] == 1:\n",
    "    prediction = 'dog'\n",
    "    print(prediction)\n",
    "else:\n",
    "    prediction = 'cat'\n",
    "    print(prediction)"
   ]
  },
  {
   "cell_type": "code",
   "execution_count": 11,
   "metadata": {},
   "outputs": [
    {
     "data": {
      "text/plain": [
       "array([[0.]], dtype=float32)"
      ]
     },
     "execution_count": 11,
     "metadata": {},
     "output_type": "execute_result"
    }
   ],
   "source": [
    "result "
   ]
  },
  {
   "cell_type": "code",
   "execution_count": 12,
   "metadata": {},
   "outputs": [
    {
     "name": "stdout",
     "output_type": "stream",
     "text": [
      "dog\n"
     ]
    }
   ],
   "source": [
    "# Part 3 - Making new predictions\n",
    "from keras.models import load_model\n",
    "import numpy as np\n",
    "from keras.preprocessing import image\n",
    "test_image = image.load_img('D:\\Data_House\\dogcat\\dog\\dog.117.jpg', target_size = (64, 64))\n",
    "test_image = image.img_to_array(test_image)\n",
    "test_image = np.expand_dims(test_image, axis = 0)\n",
    "#result = model.predict(test_image)\n",
    "model = load_model(\"model.h5\")\n",
    "result = model.predict(test_image)\n",
    "training_set.class_indices\n",
    "if result[0][0] == 1:\n",
    "    prediction = 'dog'\n",
    "    print(prediction)\n",
    "else:\n",
    "    prediction = 'cat'\n",
    "    print(prediction)"
   ]
  },
  {
   "cell_type": "code",
   "execution_count": 13,
   "metadata": {},
   "outputs": [
    {
     "data": {
      "text/plain": [
       "array([[1.]], dtype=float32)"
      ]
     },
     "execution_count": 13,
     "metadata": {},
     "output_type": "execute_result"
    }
   ],
   "source": [
    "result"
   ]
  },
  {
   "cell_type": "code",
   "execution_count": 20,
   "metadata": {
    "scrolled": true
   },
   "outputs": [
    {
     "data": {
      "text/plain": [
       "array([[[-0.14722277,  0.13093628,  0.09124506,  0.03608083,\n",
       "         -0.07993122,  0.016264  ,  0.02353416, -0.10275161,\n",
       "          0.1001033 ,  0.04922502, -0.0357214 , -0.10589561,\n",
       "         -0.04438684, -0.08467416, -0.15294635, -0.06052738,\n",
       "         -0.07868981,  0.13083799,  0.15835777,  0.11408958,\n",
       "          0.09901716, -0.08409314,  0.07526281,  0.05106651,\n",
       "          0.07308725, -0.0544529 ,  0.05045587, -0.11431721,\n",
       "          0.06804132,  0.01922518, -0.14855053,  0.12553824],\n",
       "        [ 0.08586348, -0.09243858, -0.02059917, -0.05941663,\n",
       "          0.02451792,  0.13212754,  0.08723122, -0.04101313,\n",
       "          0.07811294, -0.06585567,  0.1351519 ,  0.00039735,\n",
       "          0.14022394,  0.06586437, -0.06694348, -0.06019154,\n",
       "         -0.1278741 , -0.1203718 , -0.05577296, -0.11128356,\n",
       "         -0.07042979, -0.06203102,  0.00411707,  0.08561955,\n",
       "          0.04575222,  0.07270279,  0.11968943,  0.10560224,\n",
       "          0.07252265, -0.06019312, -0.1257217 ,  0.11124414],\n",
       "        [-0.04597282, -0.12075764,  0.1301808 , -0.12710367,\n",
       "          0.1510757 ,  0.037305  ,  0.08224609, -0.01024631,\n",
       "          0.02220247,  0.04683463,  0.13670734, -0.0878107 ,\n",
       "         -0.11898713,  0.05622366, -0.13526219,  0.06243961,\n",
       "          0.02974719, -0.13857405, -0.0388015 ,  0.10645148,\n",
       "          0.00539978,  0.09650598, -0.03309116,  0.08146137,\n",
       "         -0.10976435, -0.11740424, -0.08332699, -0.03462467,\n",
       "         -0.06149447,  0.14944391, -0.03051411,  0.0968972 ]],\n",
       "\n",
       "       [[-0.06692436,  0.16706735,  0.07028572,  0.04222263,\n",
       "         -0.07489597,  0.07730369,  0.13066931, -0.01234657,\n",
       "          0.09350051,  0.12050078,  0.10306533, -0.08546621,\n",
       "          0.00209748,  0.09355019, -0.02141447, -0.00625628,\n",
       "         -0.05621481,  0.08398326,  0.13377935,  0.10811694,\n",
       "          0.07021832,  0.03909643,  0.06503274,  0.03045217,\n",
       "         -0.06141623,  0.14099734,  0.07676573,  0.06099312,\n",
       "          0.03010733, -0.06287481,  0.05509674, -0.02196504],\n",
       "        [-0.0043714 ,  0.05676629,  0.03460879,  0.04894513,\n",
       "         -0.08512099, -0.06334875,  0.05073251, -0.06456482,\n",
       "          0.04342272,  0.07079399,  0.01985342, -0.11304868,\n",
       "          0.03411687, -0.02819769,  0.05948776, -0.09634467,\n",
       "         -0.06994402, -0.04669769, -0.06524689, -0.06310773,\n",
       "          0.08591417, -0.10208806,  0.11934073,  0.05261439,\n",
       "         -0.12559803,  0.06472183, -0.03291851, -0.01486638,\n",
       "         -0.07075234,  0.00576119, -0.06373604, -0.1198749 ],\n",
       "        [ 0.07346068,  0.14690113,  0.05770051, -0.06368089,\n",
       "          0.14011328,  0.0966206 ,  0.04828987,  0.11146342,\n",
       "          0.12849994,  0.12128997, -0.07160857,  0.07480313,\n",
       "          0.11484735, -0.02950603, -0.04589909,  0.05087989,\n",
       "          0.11318266,  0.10027549,  0.03447621, -0.06495487,\n",
       "          0.1010023 , -0.03242468, -0.07382479,  0.04696238,\n",
       "          0.11165699, -0.06893272,  0.03023165,  0.0764321 ,\n",
       "         -0.12543088, -0.00888338, -0.00785417,  0.0768235 ]],\n",
       "\n",
       "       [[-0.10555241,  0.05938237, -0.00351952, -0.10159406,\n",
       "         -0.14638418, -0.01649637,  0.05820825, -0.10388266,\n",
       "          0.02367132,  0.01342867,  0.07012179,  0.03772999,\n",
       "          0.03872191,  0.03244729,  0.04943038, -0.14271754,\n",
       "          0.07983369, -0.11483748, -0.05640508, -0.01824392,\n",
       "          0.09580268,  0.12397838, -0.04845898,  0.12006311,\n",
       "          0.12983234,  0.11634824, -0.02009596, -0.04449672,\n",
       "          0.1155061 ,  0.11263043,  0.0659901 , -0.12872528],\n",
       "        [ 0.03179034,  0.14601469,  0.15446597,  0.1206322 ,\n",
       "         -0.01803379, -0.03104289, -0.15254757,  0.07504641,\n",
       "          0.13125792, -0.07413141,  0.0407181 ,  0.12262545,\n",
       "         -0.02885704, -0.00917443, -0.0286683 , -0.07343519,\n",
       "          0.13271584,  0.02941842,  0.13337773, -0.08920125,\n",
       "         -0.02052968,  0.06113176,  0.12373468, -0.03967177,\n",
       "          0.05393272,  0.13407998,  0.00999499,  0.01944362,\n",
       "          0.09203476,  0.14724669, -0.029547  , -0.12708625],\n",
       "        [-0.02761347,  0.16457315,  0.1297524 , -0.1131325 ,\n",
       "          0.10146695, -0.1253578 , -0.05584157, -0.05915448,\n",
       "          0.05687882, -0.08740523,  0.01657288,  0.00919553,\n",
       "         -0.01193102,  0.03183733,  0.10002511, -0.06374265,\n",
       "          0.03598619, -0.05117176, -0.06326865,  0.15085271,\n",
       "          0.01111754, -0.11450259,  0.01918154,  0.08941264,\n",
       "         -0.07622938, -0.0597431 , -0.13971247,  0.10769319,\n",
       "          0.01491947,  0.10814685,  0.09082147,  0.01217867]]],\n",
       "      dtype=float32)"
      ]
     },
     "execution_count": 20,
     "metadata": {},
     "output_type": "execute_result"
    }
   ],
   "source": [
    "#check kernal value\n",
    "import numpy as np\n",
    "arr=np.load(\"D:\\\\0_INeuron\\\\Deep_Learning\\\\4 CNN overview\\\\dogcat_new\\\\kernel_0.npy\")\n",
    "arr[0]"
   ]
  },
  {
   "cell_type": "code",
   "execution_count": 27,
   "metadata": {},
   "outputs": [
    {
     "data": {
      "image/png": "[encoded data removed]",
      "text/plain": [
       "<Figure size 432x288 with 1 Axes>"
      ]
     },
     "metadata": {
      "needs_background": "light"
     },
     "output_type": "display_data"
    }
   ],
   "source": [
    "# view kernal \n",
    "from matplotlib import pyplot as plt \n",
    "\n",
    "plt.imshow(arr[0][0], cmap='gray')\n",
    "plt.show()"
   ]
  },
  {
   "cell_type": "code",
   "execution_count": null,
   "metadata": {},
   "outputs": [],
   "source": []
  }
 ],
 "metadata": {
  "kernelspec": {
   "display_name": "Python 3",
   "language": "python",
   "name": "python3"
  },
  "language_info": {
   "codemirror_mode": {
    "name": "ipython",
    "version": 3
   },
   "file_extension": ".py",
   "mimetype": "text/x-python",
   "name": "python",
   "nbconvert_exporter": "python",
   "pygments_lexer": "ipython3",
   "version": "3.6.9"
  }
 },
 "nbformat": 4,
 "nbformat_minor": 4
}
